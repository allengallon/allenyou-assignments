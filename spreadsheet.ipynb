{
 "cells": [
  {
   "cell_type": "code",
   "execution_count": 61,
   "metadata": {},
   "outputs": [
    {
     "data": {
      "text/plain": [
       "ProjectNeighborhood          ContractorCompanyName                 \n",
       "Academy                      Pending                                    1\n",
       "Baden                        Pending                                    5\n",
       "Cheltenham                   TARLTON CORP                               1\n",
       "Clayton / Tamm               OT Little Jr. Phase II                     1\n",
       "College Hill                 Hillsdale Demolition Contracting LLC       1\n",
       "Covenant Blu / Grand Center  Pending                                    1\n",
       "DeBaliviere Place            Spirtas Worldwide                          1\n",
       "Dutchtown                    Alpha &Omega Begining & End Demolition     1\n",
       "                             Pending                                    1\n",
       "Fountain Park                Pending                                    1\n",
       "Gravois Park                 Pending                                    2\n",
       "Hyde Park                    Pending                                    2\n",
       "Kingsway West                Pending                                    1\n",
       "Midtown                      Parker Petroleum Sales and Service Inc     2\n",
       "O'Fallon                     Cheyenne Contracting                       1\n",
       "                             Pending                                    3\n",
       "Penrose                      Pending                                   10\n",
       "The Hill                     Bellon Wrecking LLC                        3\n",
       "Wells / Goodfellow           Pending                                    2\n",
       "Name: PermitID, dtype: int64"
      ]
     },
     "execution_count": 61,
     "metadata": {},
     "output_type": "execute_result"
    }
   ],
   "source": [
    "import requests, json\n",
    "import pandas as pd\n",
    "from io import StringIO\n",
    "from datetime import datetime\n",
    "\n",
    "\n",
    "scraped = requests.get('https://www.stlcitypermits.com/API/Demolition/GetDemolitionPermits')\n",
    "permits = pd.DataFrame(json.loads(scraped.content.decode()))\n",
    "\n",
    "permits['CurrentResultDate'] = permits['CurrentResultDate'].apply(lambda x: datetime.strptime(x, '%Y-%m-%d'))\n",
    "\n",
    "permits.groupby(['ProjectNeighborhood', 'ContractorCompanyName'])['PermitID'].count()\n"
   ]
  }
 ],
 "metadata": {
  "kernelspec": {
   "display_name": ".venv",
   "language": "python",
   "name": "python3"
  },
  "language_info": {
   "codemirror_mode": {
    "name": "ipython",
    "version": 3
   },
   "file_extension": ".py",
   "mimetype": "text/x-python",
   "name": "python",
   "nbconvert_exporter": "python",
   "pygments_lexer": "ipython3",
   "version": "3.9.6"
  }
 },
 "nbformat": 4,
 "nbformat_minor": 2
}
