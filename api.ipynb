{
 "cells": [
  {
   "cell_type": "code",
   "execution_count": 2,
   "metadata": {},
   "outputs": [
    {
     "name": "stderr",
     "output_type": "stream",
     "text": [
      "/Users/allenyou/Desktop/Spring 2025/JOUR 390/.venv/lib/python3.9/site-packages/urllib3/__init__.py:35: NotOpenSSLWarning: urllib3 v2 only supports OpenSSL 1.1.1+, currently the 'ssl' module is compiled with 'LibreSSL 2.8.3'. See: https://github.com/urllib3/urllib3/issues/3020\n",
      "  warnings.warn(\n"
     ]
    }
   ],
   "source": [
    "import json, requests\n",
    "\n",
    "#getting data from url, extending limit\n",
    "#Vacant and Abandoned Buildings - Violations from Chicago Data Portal\n",
    "\n",
    "endpoint = 'https://data.cityofchicago.org/resource/kc9i-wq85.json?$limit=999999999'\n",
    "\n",
    "response = requests.get(endpoint)\n",
    "\n",
    "data = json.loads(response.content)"
   ]
  },
  {
   "cell_type": "code",
   "execution_count": 3,
   "metadata": {},
   "outputs": [
    {
     "data": {
      "text/plain": [
       "Index(['docket_number', 'violation_number', 'issued_date',\n",
       "       'issuing_department', 'last_hearing_date', 'property_address',\n",
       "       'violation_type', 'entity_or_person_s_', 'disposition_description',\n",
       "       'total_fines', 'total_administrative_costs', 'interest_amount',\n",
       "       'collection_costs_or_attorney_fees', 'court_cost',\n",
       "       'original_total_amount_due', 'total_paid', 'current_amount_due',\n",
       "       'latitude', 'longitude', 'location', ':@computed_region_rpca_8um6',\n",
       "       ':@computed_region_vrxf_vc4k', ':@computed_region_6mkv_f3dw',\n",
       "       ':@computed_region_bdys_3d7i', ':@computed_region_43wa_7qmu'],\n",
       "      dtype='object')"
      ]
     },
     "execution_count": 3,
     "metadata": {},
     "output_type": "execute_result"
    }
   ],
   "source": [
    "import pandas as pd\n",
    "\n",
    "#converting to DataFrame\n",
    "df = pd.DataFrame(data)\n",
    "df.columns"
   ]
  },
  {
   "cell_type": "code",
   "execution_count": 7,
   "metadata": {},
   "outputs": [
    {
     "data": {
      "text/plain": [
       "<Axes: xlabel='year', ylabel='fines'>"
      ]
     },
     "execution_count": 7,
     "metadata": {},
     "output_type": "execute_result"
    },
    {
     "data": {
      "image/png": "[encoded data removed]",
      "text/plain": [
       "<Figure size 1000x600 with 1 Axes>"
      ]
     },
     "metadata": {},
     "output_type": "display_data"
    }
   ],
   "source": [
    "import seaborn as sns\n",
    "from datetime import datetime\n",
    "import matplotlib.pyplot as plt\n",
    "\n",
    "fig, ax = plt.subplots(figsize = (10, 6))\n",
    "\n",
    "#converting fines into integers\n",
    "df['fines'] = df['total_fines'].apply(lambda x: int(x))\n",
    "\n",
    "#formatting the date into datetime, and then extracting the year\n",
    "df['format_date'] = df['issued_date'].apply(lambda x: datetime.strptime(x, '%Y-%m-%dT%H:%M:%S.%f'))\n",
    "df['year'] = df['format_date'].apply(lambda x: x.year)\n",
    "\n",
    "#graphing amount of fines given per year\n",
    "sns.barplot(data = df, x = 'year', y = 'fines', errorbar = None)\n",
    "\n",
    "#significant rise in fines over past three years"
   ]
  },
  {
   "cell_type": "code",
   "execution_count": null,
   "metadata": {},
   "outputs": [],
   "source": []
  }
 ],
 "metadata": {
  "kernelspec": {
   "display_name": ".venv",
   "language": "python",
   "name": "python3"
  },
  "language_info": {
   "codemirror_mode": {
    "name": "ipython",
    "version": 3
   },
   "file_extension": ".py",
   "mimetype": "text/x-python",
   "name": "python",
   "nbconvert_exporter": "python",
   "pygments_lexer": "ipython3",
   "version": "3.9.6"
  }
 },
 "nbformat": 4,
 "nbformat_minor": 2
}
